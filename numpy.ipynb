{
  "nbformat": 4,
  "nbformat_minor": 0,
  "metadata": {
    "colab": {
      "provenance": [],
      "authorship_tag": "ABX9TyOw4rWMk9Eb5AICE+UcG2kT",
      "include_colab_link": true
    },
    "kernelspec": {
      "name": "python3",
      "display_name": "Python 3"
    },
    "language_info": {
      "name": "python"
    }
  },
  "cells": [
    {
      "cell_type": "markdown",
      "metadata": {
        "id": "view-in-github",
        "colab_type": "text"
      },
      "source": [
        "<a href=\"https://colab.research.google.com/github/bhaskarchaithra06-coder/numpy/blob/main/numpy.ipynb\" target=\"_parent\"><img src=\"https://colab.research.google.com/assets/colab-badge.svg\" alt=\"Open In Colab\"/></a>"
      ]
    },
    {
      "cell_type": "code",
      "execution_count": null,
      "metadata": {
        "colab": {
          "base_uri": "https://localhost:8080/"
        },
        "id": "WE_l4KZbFG-m",
        "outputId": "19753d71-62e5-480a-99f1-ea64f9d25f26"
      },
      "outputs": [
        {
          "output_type": "execute_result",
          "data": {
            "text/plain": [
              "array([1, 2, 3, 4])"
            ]
          },
          "metadata": {},
          "execution_count": 1
        }
      ],
      "source": [
        "import numpy as np #numerical python\n",
        "\n",
        "#array-> collection of data with same datatype(homogenious)\n",
        "\n",
        "a=np.array([1,2,3,4])\n",
        "a"
      ]
    },
    {
      "cell_type": "code",
      "source": [
        "a=np.array([1,2,3,0,4])\n",
        "a"
      ],
      "metadata": {
        "colab": {
          "base_uri": "https://localhost:8080/"
        },
        "id": "t6bF1dLzGura",
        "outputId": "e8ebaa84-aeae-44b6-f2e7-a21129f2325d"
      },
      "execution_count": null,
      "outputs": [
        {
          "output_type": "execute_result",
          "data": {
            "text/plain": [
              "array([1, 2, 3, 0, 4])"
            ]
          },
          "metadata": {},
          "execution_count": 2
        }
      ]
    },
    {
      "cell_type": "code",
      "source": [
        "a=np.array([1,2,3,0,4,\"a\"])\n",
        "print(a)"
      ],
      "metadata": {
        "colab": {
          "base_uri": "https://localhost:8080/"
        },
        "id": "Kv8Pp12WG9cp",
        "outputId": "b63c5c0b-84e0-4da4-b06b-ed8d640a5620"
      },
      "execution_count": null,
      "outputs": [
        {
          "output_type": "stream",
          "name": "stdout",
          "text": [
            "['1' '2' '3' '0' '4' 'a']\n"
          ]
        }
      ]
    },
    {
      "cell_type": "code",
      "source": [
        "#slicing\n",
        "\n",
        "1#forward slicing\n",
        "2#backward slicing\n",
        "\n",
        "b=np.array([1,2,3,4,5])\n",
        "\n",
        "#print1,2\n",
        "#print 5,4\n",
        "#print 4,5\n",
        "#print 2,3\n",
        "\n",
        "print(b[0:2])\n",
        "print(b[-1:-3:-1])\n",
        "print(b[3:])\n",
        "print(b[-4::-1])\n"
      ],
      "metadata": {
        "colab": {
          "base_uri": "https://localhost:8080/"
        },
        "id": "dMDTzubuHRYq",
        "outputId": "b50eed24-ab53-46ef-d310-9b9f3dd5d7f1"
      },
      "execution_count": null,
      "outputs": [
        {
          "output_type": "stream",
          "name": "stdout",
          "text": [
            "[1 2]\n",
            "[5 4]\n",
            "[4 5]\n",
            "[2 1]\n"
          ]
        }
      ]
    },
    {
      "cell_type": "code",
      "source": [
        "#dimensions\n",
        "\n",
        "a=np.array([1,2,3,4,5])\n",
        "b=np.array([[1,2],[3,4]])\n",
        "\n",
        "a.ndim #dimension=1 vector\n",
        "\n",
        "b.ndim #dimension=2 matrix\n",
        "print(b)\n"
      ],
      "metadata": {
        "colab": {
          "base_uri": "https://localhost:8080/"
        },
        "id": "GZ05NLx9Iego",
        "outputId": "2b2d76c7-b30a-459a-c783-1ad4de39e6da"
      },
      "execution_count": null,
      "outputs": [
        {
          "output_type": "stream",
          "name": "stdout",
          "text": [
            "[[1 2]\n",
            " [3 4]]\n"
          ]
        }
      ]
    },
    {
      "cell_type": "code",
      "source": [
        "#create a 2*2 matrix 2,3,4,5\n",
        "\n",
        "z=np.array([[2,3],[4,5]])\n",
        "print(z)\n",
        "\n",
        "print(z.shape)\n",
        "\n",
        "print(z.ndim)\n",
        "\n",
        "print(z.size) #it is used to know total number of elements in a matrix"
      ],
      "metadata": {
        "colab": {
          "base_uri": "https://localhost:8080/"
        },
        "id": "YD-uY0_vKV2S",
        "outputId": "8bc31bdb-650e-4b1c-8f66-5f689107942a"
      },
      "execution_count": null,
      "outputs": [
        {
          "output_type": "stream",
          "name": "stdout",
          "text": [
            "[[2 3]\n",
            " [4 5]]\n",
            "(2, 2)\n",
            "2\n",
            "4\n"
          ]
        }
      ]
    },
    {
      "cell_type": "code",
      "source": [
        "#create a 2x3 matrix and print  ,size,shape,dimension\n",
        "z=np.array([[2,3],[3,4],[5,4]])\n",
        "print(z)\n",
        "print(z.size)\n",
        "print(z.shape)\n",
        "print(z.ndim)"
      ],
      "metadata": {
        "colab": {
          "base_uri": "https://localhost:8080/"
        },
        "id": "DvZQtk0ZLP4g",
        "outputId": "ea93be63-3bbd-4a75-f834-bb3161ebf567"
      },
      "execution_count": null,
      "outputs": [
        {
          "output_type": "stream",
          "name": "stdout",
          "text": [
            "[[2 3]\n",
            " [3 4]\n",
            " [5 4]]\n",
            "6\n",
            "(3, 2)\n",
            "2\n"
          ]
        }
      ]
    },
    {
      "cell_type": "code",
      "source": [
        "#create a 4x2 matrix its size shape dimensions\n",
        "z=np.array([[1,2],[3,4],[5,6],[7,8]])\n",
        "print(z)\n",
        "print(z.size)\n",
        "print(z.shape)\n",
        "print(z.ndim)\n"
      ],
      "metadata": {
        "colab": {
          "base_uri": "https://localhost:8080/"
        },
        "id": "D0fVOjTtMaqg",
        "outputId": "a0c43013-cd47-4711-8c03-d53a5ad3bdb9"
      },
      "execution_count": null,
      "outputs": [
        {
          "output_type": "stream",
          "name": "stdout",
          "text": [
            "[[1 2]\n",
            " [3 4]\n",
            " [5 6]\n",
            " [7 8]]\n",
            "8\n",
            "(4, 2)\n",
            "2\n"
          ]
        }
      ]
    },
    {
      "cell_type": "code",
      "source": [
        "#create a 4x4 matrix display its size,shape dimensions\n",
        "import numpy as np\n",
        "z=np.array([[1,2,3,4],[5,3,2,2],[7,6,5,3],[3,4,3,2]])\n",
        "print(z)\n",
        "print(z.size)\n",
        "print(z.shape)\n",
        "print(z.ndim)\n"
      ],
      "metadata": {
        "colab": {
          "base_uri": "https://localhost:8080/"
        },
        "id": "NDAxApCbNcUr",
        "outputId": "aa2ceb61-7b6e-4947-843e-54b7487fc17f"
      },
      "execution_count": null,
      "outputs": [
        {
          "output_type": "stream",
          "name": "stdout",
          "text": [
            "[[1 2 3 4]\n",
            " [5 3 2 2]\n",
            " [7 6 5 3]\n",
            " [3 4 3 2]]\n",
            "16\n",
            "(4, 4)\n",
            "2\n"
          ]
        }
      ]
    },
    {
      "cell_type": "code",
      "source": [
        "#19/9/2025"
      ],
      "metadata": {
        "id": "ZCKS5VfxFBMn"
      },
      "execution_count": null,
      "outputs": []
    },
    {
      "cell_type": "code",
      "source": [
        "\n",
        "z[0] #to get the first row\n",
        "z[:,0]\n",
        "z[1,1]\n",
        "z[2,2]\n",
        "z[3,2:]\n",
        "z[2:,2:]\n",
        "z[2:,1:3]\n",
        "z[1:3,3]\n",
        "z[1:3,0:3]\n",
        "z[0:3,1:]\n",
        "z[0:,1]\n",
        "z[0:,0:]\n",
        "\n"
      ],
      "metadata": {
        "colab": {
          "base_uri": "https://localhost:8080/"
        },
        "id": "lzz8Ozm6FWmw",
        "outputId": "7ad25972-87c1-4dc7-d9b5-ab82d060a302"
      },
      "execution_count": null,
      "outputs": [
        {
          "output_type": "execute_result",
          "data": {
            "text/plain": [
              "array([[1, 2, 3, 4],\n",
              "       [5, 3, 2, 2],\n",
              "       [7, 6, 5, 3],\n",
              "       [3, 4, 3, 2]])"
            ]
          },
          "metadata": {},
          "execution_count": 20
        }
      ]
    },
    {
      "cell_type": "code",
      "source": [
        "#zero matrix-->all the matrix are zero\n",
        "\n",
        "z=np.zeros([3,3,3],dtype=complex)\n",
        "z\n"
      ],
      "metadata": {
        "colab": {
          "base_uri": "https://localhost:8080/"
        },
        "id": "rEZoZCNWJY5-",
        "outputId": "896d1952-c4fd-4141-ea3a-1f1d046d9c20"
      },
      "execution_count": null,
      "outputs": [
        {
          "output_type": "execute_result",
          "data": {
            "text/plain": [
              "array([[[0.+0.j, 0.+0.j, 0.+0.j],\n",
              "        [0.+0.j, 0.+0.j, 0.+0.j],\n",
              "        [0.+0.j, 0.+0.j, 0.+0.j]],\n",
              "\n",
              "       [[0.+0.j, 0.+0.j, 0.+0.j],\n",
              "        [0.+0.j, 0.+0.j, 0.+0.j],\n",
              "        [0.+0.j, 0.+0.j, 0.+0.j]],\n",
              "\n",
              "       [[0.+0.j, 0.+0.j, 0.+0.j],\n",
              "        [0.+0.j, 0.+0.j, 0.+0.j],\n",
              "        [0.+0.j, 0.+0.j, 0.+0.j]]])"
            ]
          },
          "metadata": {},
          "execution_count": 21
        }
      ]
    },
    {
      "cell_type": "code",
      "source": [
        "z=np.zeros([2,3,3],dtype=int)\n",
        "z"
      ],
      "metadata": {
        "colab": {
          "base_uri": "https://localhost:8080/"
        },
        "id": "LB4RDJ9FKYGE",
        "outputId": "4012fd7f-3df7-432f-ed4f-8efd76494478"
      },
      "execution_count": null,
      "outputs": [
        {
          "output_type": "execute_result",
          "data": {
            "text/plain": [
              "array([[[0, 0, 0],\n",
              "        [0, 0, 0],\n",
              "        [0, 0, 0]],\n",
              "\n",
              "       [[0, 0, 0],\n",
              "        [0, 0, 0],\n",
              "        [0, 0, 0]]])"
            ]
          },
          "metadata": {},
          "execution_count": 23
        }
      ]
    },
    {
      "cell_type": "code",
      "source": [
        "#one matrix\n",
        "\n",
        "z=np.ones([3,3],dtype=int)\n",
        "z"
      ],
      "metadata": {
        "colab": {
          "base_uri": "https://localhost:8080/"
        },
        "id": "ENkbKYHFKgxF",
        "outputId": "0029fd58-2040-43e3-e980-1e933979c695"
      },
      "execution_count": null,
      "outputs": [
        {
          "output_type": "execute_result",
          "data": {
            "text/plain": [
              "array([[1, 1, 1],\n",
              "       [1, 1, 1],\n",
              "       [1, 1, 1]])"
            ]
          },
          "metadata": {},
          "execution_count": 24
        }
      ]
    },
    {
      "cell_type": "code",
      "source": [
        "#create two 2x2 matrix\n",
        "z=np.array([[1,2],[3,4]])\n",
        "b=np.array([[3,2],[6,7]])\n",
        "print(z)\n",
        "print(b)"
      ],
      "metadata": {
        "colab": {
          "base_uri": "https://localhost:8080/"
        },
        "id": "JePPr27BKxhB",
        "outputId": "a75de23e-a691-4c7a-d008-443163ca0d24"
      },
      "execution_count": null,
      "outputs": [
        {
          "output_type": "stream",
          "name": "stdout",
          "text": [
            "[[1 2]\n",
            " [3 4]]\n",
            "[[3 2]\n",
            " [6 7]]\n"
          ]
        }
      ]
    },
    {
      "cell_type": "code",
      "source": [
        "#matrix addition\n",
        "\n",
        "print(z+b)\n",
        "\n",
        "#matrix substraction\n",
        "\n",
        "print(z-b)\n",
        "\n",
        "#matrix multiplication\n",
        "\n",
        "print(z*b) #not a matrix multiplication\n",
        "\n",
        "print(z@b) #matrix multiplication\n",
        "\n",
        "print(z.dot(b)) #matrix multiplication\n",
        "\n",
        "#matrix division\n",
        "\n",
        "print(z/b)\n",
        "\n",
        "#magic-->_add_ the functions that starts with\n"
      ],
      "metadata": {
        "colab": {
          "base_uri": "https://localhost:8080/"
        },
        "id": "m4Q-ZQnyLXFL",
        "outputId": "dd0b8899-3c62-46ae-e630-355d62674dbf"
      },
      "execution_count": null,
      "outputs": [
        {
          "output_type": "stream",
          "name": "stdout",
          "text": [
            "[[ 4  4]\n",
            " [ 9 11]]\n",
            "[[-2  0]\n",
            " [-3 -3]]\n",
            "[[ 3  4]\n",
            " [18 28]]\n",
            "[[15 16]\n",
            " [33 34]]\n",
            "[[15 16]\n",
            " [33 34]]\n",
            "[[0.33333333 1.        ]\n",
            " [0.5        0.57142857]]\n"
          ]
        }
      ]
    },
    {
      "cell_type": "code",
      "source": [
        "#full matrix\n",
        "\n",
        "z=np.full([3,3],7,dtype=int)\n",
        "z"
      ],
      "metadata": {
        "colab": {
          "base_uri": "https://localhost:8080/"
        },
        "id": "htdaFyWbMmRE",
        "outputId": "6c395595-8952-42fd-e70e-1cdb2eb77355"
      },
      "execution_count": null,
      "outputs": [
        {
          "output_type": "execute_result",
          "data": {
            "text/plain": [
              "array([[7, 7, 7],\n",
              "       [7, 7, 7],\n",
              "       [7, 7, 7]])"
            ]
          },
          "metadata": {},
          "execution_count": 45
        }
      ]
    },
    {
      "cell_type": "code",
      "source": [
        "#create a 3x4 matrix with value 9 and datatype complex\n",
        "\n",
        "z=np.full([3,4],9,dtype=complex)\n",
        "z"
      ],
      "metadata": {
        "colab": {
          "base_uri": "https://localhost:8080/"
        },
        "id": "tbNp3NNZOfLE",
        "outputId": "2f982ef4-67a6-40e8-80a7-f816fa7b217b"
      },
      "execution_count": null,
      "outputs": [
        {
          "output_type": "execute_result",
          "data": {
            "text/plain": [
              "array([[9.+0.j, 9.+0.j, 9.+0.j, 9.+0.j],\n",
              "       [9.+0.j, 9.+0.j, 9.+0.j, 9.+0.j],\n",
              "       [9.+0.j, 9.+0.j, 9.+0.j, 9.+0.j]])"
            ]
          },
          "metadata": {},
          "execution_count": 46
        }
      ]
    },
    {
      "cell_type": "code",
      "source": [
        "#identity matrix--\n",
        "\n",
        "z=np.identity(3,dtype=int)\n",
        "z"
      ],
      "metadata": {
        "colab": {
          "base_uri": "https://localhost:8080/"
        },
        "id": "DwXEPy-_O-0D",
        "outputId": "80ba2b4d-ffbc-404f-c117-7e2d51a7a3d5"
      },
      "execution_count": null,
      "outputs": [
        {
          "output_type": "execute_result",
          "data": {
            "text/plain": [
              "array([[1, 0, 0],\n",
              "       [0, 1, 0],\n",
              "       [0, 0, 1]])"
            ]
          },
          "metadata": {},
          "execution_count": 48
        }
      ]
    },
    {
      "cell_type": "code",
      "source": [
        "z=np.eye(3)\n",
        "z"
      ],
      "metadata": {
        "colab": {
          "base_uri": "https://localhost:8080/"
        },
        "id": "5H2RJ-vwQd_y",
        "outputId": "01760f8b-0304-4bf4-e7db-22e1d64c2f62"
      },
      "execution_count": null,
      "outputs": [
        {
          "output_type": "execute_result",
          "data": {
            "text/plain": [
              "array([[1., 0., 0.],\n",
              "       [0., 1., 0.],\n",
              "       [0., 0., 1.]])"
            ]
          },
          "metadata": {},
          "execution_count": 49
        }
      ]
    },
    {
      "cell_type": "code",
      "source": [
        "#create a 4x4 matrix\n",
        "\n",
        "z=np.array([[1,2,3,4],[5,6,7,8],[9,10,11,12],[13,14,15,16]])\n",
        "print(z)\n",
        "print(z.size)"
      ],
      "metadata": {
        "colab": {
          "base_uri": "https://localhost:8080/"
        },
        "id": "0nmNhHfqQvML",
        "outputId": "06ef9445-6b9d-4d92-96eb-5680000c9f7e"
      },
      "execution_count": null,
      "outputs": [
        {
          "output_type": "stream",
          "name": "stdout",
          "text": [
            "[[ 1  2  3  4]\n",
            " [ 5  6  7  8]\n",
            " [ 9 10 11 12]\n",
            " [13 14 15 16]]\n",
            "16\n"
          ]
        }
      ]
    },
    {
      "cell_type": "code",
      "source": [
        "a=z.reshape(8,2)\n",
        "a"
      ],
      "metadata": {
        "colab": {
          "base_uri": "https://localhost:8080/"
        },
        "id": "HZkyg7LKROso",
        "outputId": "2f8edd29-06fa-4a8c-8d5a-092f9d5e3b45"
      },
      "execution_count": null,
      "outputs": [
        {
          "output_type": "execute_result",
          "data": {
            "text/plain": [
              "array([[ 1,  2],\n",
              "       [ 3,  4],\n",
              "       [ 5,  6],\n",
              "       [ 7,  8],\n",
              "       [ 9, 10],\n",
              "       [11, 12],\n",
              "       [13, 14],\n",
              "       [15, 16]])"
            ]
          },
          "metadata": {},
          "execution_count": 57
        }
      ]
    },
    {
      "cell_type": "code",
      "source": [
        "#range\n",
        "\n",
        "a=np.arange(1,10,2)\n",
        "a"
      ],
      "metadata": {
        "colab": {
          "base_uri": "https://localhost:8080/"
        },
        "id": "gOYHJa7TSFrV",
        "outputId": "07688bfa-da88-4b60-ec5e-4f88cf5805c3"
      },
      "execution_count": null,
      "outputs": [
        {
          "output_type": "execute_result",
          "data": {
            "text/plain": [
              "array([1, 3, 5, 7, 9])"
            ]
          },
          "metadata": {},
          "execution_count": 58
        }
      ]
    },
    {
      "cell_type": "code",
      "source": [
        "#create a 5x2 matrix using arange\n",
        "\n",
        "a=np.arange(1,11).reshape(5,2)\n",
        "a"
      ],
      "metadata": {
        "colab": {
          "base_uri": "https://localhost:8080/"
        },
        "id": "RZG3LxYESelx",
        "outputId": "9c7a6ca9-538d-4cd3-feb9-fa3557ffe54f"
      },
      "execution_count": null,
      "outputs": [
        {
          "output_type": "execute_result",
          "data": {
            "text/plain": [
              "array([[ 1,  2],\n",
              "       [ 3,  4],\n",
              "       [ 5,  6],\n",
              "       [ 7,  8],\n",
              "       [ 9, 10]])"
            ]
          },
          "metadata": {},
          "execution_count": 63
        }
      ]
    },
    {
      "cell_type": "code",
      "source": [
        "#create a 3x3 matrix with float values\n",
        "\n",
        "a=np.array([[2.5,3.6,3.5],[1.5,1.1,6.5],[7.2,3.6,3.4]])\n",
        "a"
      ],
      "metadata": {
        "colab": {
          "base_uri": "https://localhost:8080/"
        },
        "id": "VYEKZYDtTJYN",
        "outputId": "df862a7a-4eb7-4081-8bdd-775f7689d48d"
      },
      "execution_count": null,
      "outputs": [
        {
          "output_type": "execute_result",
          "data": {
            "text/plain": [
              "array([[2.5, 3.6, 3.5],\n",
              "       [1.5, 1.1, 6.5],\n",
              "       [7.2, 3.6, 3.4]])"
            ]
          },
          "metadata": {},
          "execution_count": 64
        }
      ]
    },
    {
      "cell_type": "code",
      "source": [
        "#floor\n",
        "\n",
        "z=np.floor(a)\n",
        "z"
      ],
      "metadata": {
        "colab": {
          "base_uri": "https://localhost:8080/"
        },
        "id": "pSnx6u1hUjhQ",
        "outputId": "b36624c8-76ba-4591-a988-beb07b5bd63d"
      },
      "execution_count": null,
      "outputs": [
        {
          "output_type": "execute_result",
          "data": {
            "text/plain": [
              "array([[2., 3., 3.],\n",
              "       [1., 1., 6.],\n",
              "       [7., 3., 3.]])"
            ]
          },
          "metadata": {},
          "execution_count": 65
        }
      ]
    },
    {
      "cell_type": "code",
      "source": [
        "#ceil\n",
        "z=np.ceil(a)\n",
        "z"
      ],
      "metadata": {
        "colab": {
          "base_uri": "https://localhost:8080/"
        },
        "id": "0PUUZ8qFU_g4",
        "outputId": "674dd64e-5d0d-4591-e42a-1d6560be95a7"
      },
      "execution_count": null,
      "outputs": [
        {
          "output_type": "execute_result",
          "data": {
            "text/plain": [
              "array([[3., 4., 4.],\n",
              "       [2., 2., 7.],\n",
              "       [8., 4., 4.]])"
            ]
          },
          "metadata": {},
          "execution_count": 66
        }
      ]
    },
    {
      "cell_type": "code",
      "source": [
        "#round\n",
        "\n",
        "z=np.round(a)\n",
        "z"
      ],
      "metadata": {
        "colab": {
          "base_uri": "https://localhost:8080/"
        },
        "id": "JMfAeKC1Vaze",
        "outputId": "caa045dc-885c-4846-a52c-22d5d8cbead5"
      },
      "execution_count": null,
      "outputs": [
        {
          "output_type": "execute_result",
          "data": {
            "text/plain": [
              "array([[2., 4., 4.],\n",
              "       [2., 1., 6.],\n",
              "       [7., 4., 3.]])"
            ]
          },
          "metadata": {},
          "execution_count": 67
        }
      ]
    },
    {
      "cell_type": "code",
      "source": [
        "#create a 3x3 matrix\n",
        "import numpy as np\n",
        "\n",
        "\n",
        "a=np.arange(1,10).reshape(3,3)\n",
        "print(a)\n",
        "\n",
        "a.max()\n",
        "\n",
        "a.max(axis=1)\n",
        "\n",
        "a.max(axis=0)\n",
        "\n",
        "a.min()\n",
        "\n",
        "a.min(axis=1)\n",
        "\n",
        "a.min(axis=0)\n"
      ],
      "metadata": {
        "colab": {
          "base_uri": "https://localhost:8080/"
        },
        "id": "NUSdf_BuWTXv",
        "outputId": "192964f1-f0f6-41f3-c655-7997c19d86f6"
      },
      "execution_count": 5,
      "outputs": [
        {
          "output_type": "stream",
          "name": "stdout",
          "text": [
            "[[1 2 3]\n",
            " [4 5 6]\n",
            " [7 8 9]]\n"
          ]
        },
        {
          "output_type": "execute_result",
          "data": {
            "text/plain": [
              "array([1, 2, 3])"
            ]
          },
          "metadata": {},
          "execution_count": 5
        }
      ]
    },
    {
      "cell_type": "code",
      "source": [
        "#22/09/2025\n",
        "#Monday"
      ],
      "metadata": {
        "id": "MbzMI5xMjoVs"
      },
      "execution_count": null,
      "outputs": []
    },
    {
      "cell_type": "code",
      "source": [
        "#create a 3x3 matrix\n",
        "import numpy as np\n",
        "\n",
        "a=np.arange(1,10).reshape(3,3)\n",
        "print(a)\n",
        "\n",
        "a.max()\n",
        "\n",
        "a.max(axis=1)\n",
        "\n",
        "a.max(axis=0)\n",
        "\n",
        "a.min()\n",
        "\n",
        "a.min(axis=1)\n",
        "\n",
        "a.min(axis=0)\n",
        "\n",
        "a.sum()\n",
        "\n",
        "a.sum(axis=1)\n",
        "\n",
        "a.sum(axis=0)\n",
        "\n",
        "+np.sqrt(a)\n",
        "+np.sin(a)\n",
        "+np.cos(a)\n",
        "+np.tan(a)\n",
        "\n"
      ],
      "metadata": {
        "colab": {
          "base_uri": "https://localhost:8080/"
        },
        "id": "-zRAyx7Hj189",
        "outputId": "bf024827-77ee-4217-ae65-41f07cd31ecf"
      },
      "execution_count": 6,
      "outputs": [
        {
          "output_type": "stream",
          "name": "stdout",
          "text": [
            "[[1 2 3]\n",
            " [4 5 6]\n",
            " [7 8 9]]\n"
          ]
        },
        {
          "output_type": "execute_result",
          "data": {
            "text/plain": [
              "array([[ 1.55740772, -2.18503986, -0.14254654],\n",
              "       [ 1.15782128, -3.38051501, -0.29100619],\n",
              "       [ 0.87144798, -6.79971146, -0.45231566]])"
            ]
          },
          "metadata": {},
          "execution_count": 6
        }
      ]
    },
    {
      "cell_type": "code",
      "source": [
        "a.flatten()\n"
      ],
      "metadata": {
        "colab": {
          "base_uri": "https://localhost:8080/"
        },
        "id": "EKhJCjTPlH-T",
        "outputId": "2f248902-1b07-41f4-8516-7e9031dfefd2"
      },
      "execution_count": 7,
      "outputs": [
        {
          "output_type": "execute_result",
          "data": {
            "text/plain": [
              "array([1, 2, 3, 4, 5, 6, 7, 8, 9])"
            ]
          },
          "metadata": {},
          "execution_count": 7
        }
      ]
    },
    {
      "cell_type": "code",
      "source": [
        "#sort\n",
        "#create a 3x3 matrix\n",
        "\n",
        "a=np.array([[3,4,1],[5,3,2],[6,9,8]])\n",
        "print(a)\n",
        "b=np.sort(a,axis=0)\n",
        "b"
      ],
      "metadata": {
        "colab": {
          "base_uri": "https://localhost:8080/"
        },
        "id": "xFSfyBDKlkN2",
        "outputId": "fc46d18c-0890-456f-dceb-dae620636dc4"
      },
      "execution_count": 10,
      "outputs": [
        {
          "output_type": "stream",
          "name": "stdout",
          "text": [
            "[[3 4 1]\n",
            " [5 3 2]\n",
            " [6 9 8]]\n"
          ]
        },
        {
          "output_type": "execute_result",
          "data": {
            "text/plain": [
              "array([[3, 3, 1],\n",
              "       [5, 4, 2],\n",
              "       [6, 9, 8]])"
            ]
          },
          "metadata": {},
          "execution_count": 10
        }
      ]
    },
    {
      "cell_type": "code",
      "source": [
        "#sort\n",
        "#create a 3x3 matrix\n",
        "\n",
        "a=np.array([[3,4,1],[5,3,2],[6,9,8]])\n",
        "print(a)\n",
        "b=np.sort(a,axis=0)\n",
        "print(b)\n",
        "c=np.argsort(a,axis=1)\n",
        "print(c)"
      ],
      "metadata": {
        "colab": {
          "base_uri": "https://localhost:8080/"
        },
        "id": "WXgNTKN5l_ur",
        "outputId": "ce24b4d3-8765-41a5-8cc8-19a36579b3c6"
      },
      "execution_count": 12,
      "outputs": [
        {
          "output_type": "stream",
          "name": "stdout",
          "text": [
            "[[3 4 1]\n",
            " [5 3 2]\n",
            " [6 9 8]]\n",
            "[[3 3 1]\n",
            " [5 4 2]\n",
            " [6 9 8]]\n",
            "[[2 0 1]\n",
            " [2 1 0]\n",
            " [0 2 1]]\n"
          ]
        }
      ]
    },
    {
      "cell_type": "code",
      "source": [],
      "metadata": {
        "id": "twahLTH-p82J"
      },
      "execution_count": null,
      "outputs": []
    }
  ]
}